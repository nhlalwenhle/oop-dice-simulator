{
 "cells": [
  {
   "cell_type": "code",
   "execution_count": 6,
   "metadata": {},
   "outputs": [],
   "source": [
    "import io, os, sys, types\n",
    "from random import randrange\n",
    "from graphics import GraphWin, Point\n",
    "from IPython import get_ipython\n",
    "from nbformat import read\n",
    "from IPython.core.interactiveshell import InteractiveShell\n",
    "\n",
    "import import_ipynb\n",
    "import random\n",
    "import import_ipynb\n",
    "\n",
    "from dice import Dice\n",
    "\n",
    "        \n",
    "        \n",
    "from dice import Dice\n",
    "\n",
    "class PokerApp:\n",
    "\n",
    "    def __init__(self, interface):\n",
    "        self.dice = Dice()\n",
    "        self.money = 100\n",
    "        self.interface = interface\n",
    "\n",
    "    def run(self):\n",
    "        while self.money >= 10 and self.interface.wantToPlay():\n",
    "            self.playRound()            \n",
    "        self.interface.close()\n",
    "\n",
    "    def playRound(self):\n",
    "        self.money = self.money - 10\n",
    "        self.interface.setMoney(self.money)\n",
    "        self.doRolls()\n",
    "        result, score = self.dice.score()\n",
    "        self.interface.showResult(result, score)\n",
    "        self.money = self.money + score\n",
    "        self.interface.setMoney(self.money)\n",
    "        \n",
    "    def rollAll(self):\n",
    "        self.roll(range(5))\n",
    "        \n",
    "    def doRolls(self):\n",
    "        self.dice.rollAll()\n",
    "        roll = 1\n",
    "        self.interface.setDice(self.dice.values())\n",
    "        toRoll = self.interface.chooseDice()\n",
    "        while roll < 3 and toRoll != []:\n",
    "            self.dice.roll(toRoll)\n",
    "            roll = roll + 1\n",
    "            self.interface.setDice(self.dice.values())\n",
    "            if roll < 3:\n",
    "                toRoll = self.interface.chooseDice()\n",
    "\n"
   ]
  },
  {
   "cell_type": "code",
   "execution_count": null,
   "metadata": {},
   "outputs": [],
   "source": []
  }
 ],
 "metadata": {
  "kernelspec": {
   "display_name": "Python 3",
   "language": "python",
   "name": "python3"
  },
  "language_info": {
   "codemirror_mode": {
    "name": "ipython",
    "version": 3
   },
   "file_extension": ".py",
   "mimetype": "text/x-python",
   "name": "python",
   "nbconvert_exporter": "python",
   "pygments_lexer": "ipython3",
   "version": "3.7.1"
  }
 },
 "nbformat": 4,
 "nbformat_minor": 2
}
