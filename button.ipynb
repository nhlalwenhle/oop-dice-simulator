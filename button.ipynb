{
 "cells": [
  {
   "cell_type": "code",
   "execution_count": 1,
   "metadata": {},
   "outputs": [],
   "source": [
    "from graphics import *\n",
    "#from tkinter import *"
   ]
  },
  {
   "cell_type": "code",
   "execution_count": 2,
   "metadata": {},
   "outputs": [],
   "source": [
    "\n",
    "\n",
    "class Button:\n",
    "    \"\"\" A button is a labeled rectangle in a window. It is activated or deactivated\n",
    "    with the activate() and deactivate() methods. The clicked (p) method returns\n",
    "    true if the button is active and p is inside it. \"\"\"\n",
    "\n",
    "    def __init__ (self, win, center, width, height, label):\n",
    "    #\"\"\"\" creates a rectangualr button, eg:\n",
    "        #qp = Button (myWin, centerPoint, width, height, 'quit')\"\"\"\n",
    "\n",
    "    #set attributes here\n",
    "        w,h = width/2.0, height/2.0\n",
    "        x,y = center.getX(), center.getY()\n",
    "        self.xmax, self.xmin = x+w, x-w\n",
    "        self.ymax, self.ymin = y+h, y-h\n",
    "        p1 = Point(self.xmin, self.ymin)\n",
    "        p2 = Point(self.xmax, self.ymax)\n",
    "        self.rect = Rectangle(p1,p2)\n",
    "        self.rect.setFill('lightgray')\n",
    "        self.rect.draw(win)\n",
    "        self.label = Text(center, label)\n",
    "        self.label.draw(win)\n",
    "        self.deactivate()\n",
    "    def clicked(self, p):\n",
    "    #\"\"\"returns true if the button active and p is inside\"\"\"\n",
    "        return self.active and \\\n",
    "               self.xmin <= p.getX() <= self.xmax and \\\n",
    "               self.ymin <= p.getY() <= self.ymax\n",
    "    \n",
    "        \n",
    "    def getLabel(self):\n",
    "    #\"\"\"returns the label string of the button\"\"\"\n",
    "    #CODE\n",
    "        return self.label.getText()\n",
    "    \n",
    "\n",
    "    def activate(self):\n",
    "    #\"\"\"Sets this button to 'active'\"\"\"\n",
    "    #CODE\n",
    "        self.label.setFill('lightblue')\n",
    "        self.rect.setWidth(2)\n",
    "        self.active = True\n",
    "    \n",
    "\n",
    "    def deactivate (self):\n",
    "    #\"\"\"Sets this button to 'active'\"\"\"\n",
    "    #CODE\n",
    "        self.label.setFill('darkgray')\n",
    "        self.rect.setWidth(1)\n",
    "        self.active = False\n",
    "    "
   ]
  },
  {
   "cell_type": "code",
   "execution_count": null,
   "metadata": {},
   "outputs": [],
   "source": []
  },
  {
   "cell_type": "code",
   "execution_count": null,
   "metadata": {},
   "outputs": [],
   "source": []
  }
 ],
 "metadata": {
  "kernelspec": {
   "display_name": "Python 3",
   "language": "python",
   "name": "python3"
  },
  "language_info": {
   "codemirror_mode": {
    "name": "ipython",
    "version": 3
   },
   "file_extension": ".py",
   "mimetype": "text/x-python",
   "name": "python",
   "nbconvert_exporter": "python",
   "pygments_lexer": "ipython3",
   "version": "3.7.1"
  }
 },
 "nbformat": 4,
 "nbformat_minor": 2
}
