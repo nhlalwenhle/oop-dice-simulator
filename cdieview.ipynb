{
 "cells": [
  {
   "cell_type": "code",
   "execution_count": 3,
   "metadata": {},
   "outputs": [],
   "source": [
    "# cdieview.py\n",
    "#   Implementation of a DieView with changeable forground color\n",
    "#   Illustrates inheritance\n",
    "import import_ipynb\n",
    "from dieview import DieView\n",
    "\n",
    "class ColorDieView(DieView):\n",
    "\n",
    "    def setValue(self, value):\n",
    "        self.value = value      # remember this value\n",
    "        DieView.setValue(self, value) # call setValue from parent class\n",
    "\n",
    "    def setColor(self, color):\n",
    "        self.foreground = color\n",
    "        self.setValue(self.value)\n"
   ]
  },
  {
   "cell_type": "code",
   "execution_count": null,
   "metadata": {},
   "outputs": [],
   "source": []
  }
 ],
 "metadata": {
  "kernelspec": {
   "display_name": "Python 3",
   "language": "python",
   "name": "python3"
  },
  "language_info": {
   "codemirror_mode": {
    "name": "ipython",
    "version": 3
   },
   "file_extension": ".py",
   "mimetype": "text/x-python",
   "name": "python",
   "nbconvert_exporter": "python",
   "pygments_lexer": "ipython3",
   "version": "3.7.1"
  }
 },
 "nbformat": 4,
 "nbformat_minor": 2
}
