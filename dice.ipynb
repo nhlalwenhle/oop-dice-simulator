{
 "cells": [
  {
   "cell_type": "code",
   "execution_count": 5,
   "metadata": {},
   "outputs": [],
   "source": [
    "# dice.ipynb\n",
    "\n",
    "from random import randrange\n",
    "\n",
    "class Dice:\n",
    "    def __init__(self):\n",
    "        self.dice = [0]*5\n",
    "        self.rollAll()\n",
    "\n",
    "    def roll(self, which):\n",
    "        for pos in which:\n",
    "            self.dice[pos] = randrange(1,7)\n",
    "\n",
    "    def rollAll(self):\n",
    "        self.roll(range(5))\n",
    "\n",
    "    def values(self):\n",
    "        return self.dice[:]\n",
    "\n",
    "    def score(self):\n",
    "        # Create the counts list\n",
    "        counts = [0] * 7  \n",
    "        for value in self.dice:\n",
    "            counts[value] = counts[value] + 1\n",
    "\n",
    "        # score the hand\n",
    "        if 5 in counts:\n",
    "            return \"Five of a Kind\", 30\n",
    "        elif 4 in counts:\n",
    "            return \"Four of a Kind\", 15\n",
    "        elif (3 in counts) and (2 in counts):\n",
    "            return \"Full House\", 12\n",
    "        elif 3 in counts:\n",
    "            return \"Three of a Kind\", 8\n",
    "        elif not (2 in counts) and (counts[1]==0 or counts[6] == 0):\n",
    "            return \"Straight\", 20\n",
    "        elif counts.count(2) == 2:\n",
    "            return \"Two Pairs\", 5\n",
    "        else:\n",
    "            return \"Bad Luck !!\", 0\n"
   ]
  },
  {
   "cell_type": "code",
   "execution_count": null,
   "metadata": {},
   "outputs": [],
   "source": []
  }
 ],
 "metadata": {
  "kernelspec": {
   "display_name": "Python 3",
   "language": "python",
   "name": "python3"
  },
  "language_info": {
   "codemirror_mode": {
    "name": "ipython",
    "version": 3
   },
   "file_extension": ".py",
   "mimetype": "text/x-python",
   "name": "python",
   "nbconvert_exporter": "python",
   "pygments_lexer": "ipython3",
   "version": "3.7.1"
  }
 },
 "nbformat": 4,
 "nbformat_minor": 2
}
