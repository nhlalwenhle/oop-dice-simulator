{
 "cells": [
  {
   "cell_type": "markdown",
   "metadata": {},
   "source": [
    "# Object-oriented programming\n",
    "## Dice simulator."
   ]
  },
  {
   "cell_type": "markdown",
   "metadata": {},
   "source": [
    "Nhlalwenhle Wiseman Godslove Gumede."
   ]
  },
  {
   "cell_type": "code",
   "execution_count": 1,
   "metadata": {},
   "outputs": [],
   "source": [
    "#import packages"
   ]
  },
  {
   "cell_type": "code",
   "execution_count": 2,
   "metadata": {},
   "outputs": [],
   "source": [
    "import random\n",
    "from random import randint\n",
    "import numpy as np"
   ]
  },
  {
   "cell_type": "code",
   "execution_count": 4,
   "metadata": {},
   "outputs": [
    {
     "name": "stdout",
     "output_type": "stream",
     "text": [
      "5 2 3 1 5\n",
      "6 6 2 3 4\n",
      "4 3 3 4 2\n",
      "3 1 3 5 3\n",
      "6 4 5 2 1\n",
      "3 6 5 3 3\n",
      "6 6 6 5 6\n"
     ]
    }
   ],
   "source": [
    "#class definition for an n-sided die\n",
    "#constructor here\n",
    "import io, os, sys, types\n",
    "from random import randrange\n",
    "from graphics import GraphWin, Point\n",
    "from IPython import get_ipython\n",
    "from nbformat import read\n",
    "from IPython.core.interactiveshell import InteractiveShell\n",
    "\n",
    "import import_ipynb\n",
    "from button import Button\n",
    "from dieview import DieView \n",
    "from roller import main\n",
    "import random\n",
    "class Die(object):\n",
    "    #Simulate a generic die.\n",
    "    def __init__( self ):\n",
    "        self.sides= 6\n",
    "        self.roll()\n",
    "#define classmethod 'roll' to roll the MSdie\n",
    "#roll - set the die to a random value between 1 an n, inclusive.\n",
    "    def roll( self ):\n",
    "        self.value= 1+random.randrange(self.sides)\n",
    "        return self.value\n",
    "#define classmethod 'setValue' to set the die to a particular value\n",
    "#setValue - set the die to a specific value\n",
    "    def setValue(self,value):\n",
    "         self.value = value\n",
    "#define classmethod 'getValue' to return the current value of the MSdie\n",
    "#getValue - see what the current value is.\n",
    "    def getValue( self ):\n",
    "        return self.value\n",
    "#Rolling the Die 7 (range(7)) times to generate random die rolls.\n",
    "def main():\n",
    "    d1, d2, d3, d4, d5  = Die(), Die(), Die(), Die(), Die()\n",
    "    for n in range(7):\n",
    "         print (d1.roll(), d2.roll(), d3.roll(), d4.roll(), d5.roll())\n",
    "\n",
    "main()"
   ]
  },
  {
   "cell_type": "code",
   "execution_count": null,
   "metadata": {},
   "outputs": [],
   "source": []
  },
  {
   "cell_type": "code",
   "execution_count": null,
   "metadata": {},
   "outputs": [],
   "source": []
  },
  {
   "cell_type": "code",
   "execution_count": null,
   "metadata": {},
   "outputs": [],
   "source": []
  }
 ],
 "metadata": {
  "kernelspec": {
   "display_name": "Python 3",
   "language": "python",
   "name": "python3"
  },
  "language_info": {
   "codemirror_mode": {
    "name": "ipython",
    "version": 3
   },
   "file_extension": ".py",
   "mimetype": "text/x-python",
   "name": "python",
   "nbconvert_exporter": "python",
   "pygments_lexer": "ipython3",
   "version": "3.7.1"
  }
 },
 "nbformat": 4,
 "nbformat_minor": 2
}
